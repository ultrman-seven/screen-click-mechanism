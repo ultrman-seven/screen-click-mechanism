{
 "cells": [
  {
   "cell_type": "code",
   "execution_count": null,
   "metadata": {},
   "outputs": [],
   "source": [
    "import serial_test\n",
    "\n",
    "s = serial_test.FoobarTest(\"COM3\")\n",
    "\n",
    "# s.setLinkLength(0, 130.0, 120.0)\n",
    "# s.setLinkLength(1, 130.0, 120.0)\n",
    "# s.setServo_X_Y_Position(0, -140.0, 0.0)\n",
    "# s.setServo_X_Y_Position(1, 140.0, 0.0)\n",
    "# s.setClickTime(1000)\n",
    "# s.setClickPosition(20, 43)\n",
    "# s.saveCfg()\n"
   ]
  },
  {
   "cell_type": "code",
   "execution_count": 2,
   "metadata": {},
   "outputs": [],
   "source": [
    "import math\n",
    "\n",
    "L1 = 130\n",
    "L2 = 120\n",
    "\n",
    "SL_X = -140\n",
    "SR_X = 140\n",
    "\n",
    "SL_Y = 0\n",
    "SR_Y = 0\n",
    "\n",
    "\n",
    "def __nm(x, y, sx, sy, l1, l2):\n",
    "    x -= sx\n",
    "    y -= sy\n",
    "\n",
    "    d2 = x*x+y*y\n",
    "    d = d2**0.5\n",
    "\n",
    "    cos_theta1 = (d2 + l1*l1 - l2*l2) / (2*d*l1)\n",
    "    theta1 = math.acos(cos_theta1)\n",
    "    theta_aux = math.atan2(y, x)\n",
    "    # print('theta aux = ', theta_aux)\n",
    "    if abs(theta_aux) < (math.pi/2):\n",
    "        return theta1 + math.pi/2 + theta_aux\n",
    "    while theta_aux < 0:\n",
    "        theta_aux += (math.pi * 2)\n",
    "    return theta_aux - (theta1 + math.pi/2)\n",
    "\n",
    "\n",
    "def move_py_fuckArm(x, y):\n",
    "    left_angle = __nm(x, y, SL_X, SL_Y, L1, L2)\n",
    "    right_angle = __nm(x, y, SR_X, SR_Y, L1, L2)\n",
    "\n",
    "    left_angle *= (100/math.pi)\n",
    "    right_angle *= (100/math.pi)\n",
    "\n",
    "    # print(f'left :  {left_angle*1.8}, ({int(left_angle)})')\n",
    "    # print(f'right :  {right_angle*1.8}, ({int(right_angle)})')\n",
    "\n",
    "    return [left_angle, right_angle]\n",
    "\n",
    "\n",
    "# X_MID = 15\n",
    "X_MID = 13\n",
    "Y_MID = -40\n",
    "GAP = 20\n",
    "\n",
    "POWER_BUTTON = [X_MID+GAP-5+79, Y_MID+3]\n",
    "\n",
    "points = [\n",
    "    POWER_BUTTON,\n",
    "    [X_MID+1, Y_MID + GAP],\n",
    "    [X_MID - GAP+10, Y_MID],\n",
    "    [X_MID+13, Y_MID - GAP+5],\n",
    "    [X_MID + GAP+4, Y_MID+3]\n",
    "]\n",
    "\n",
    "# print(move_py_fuckArm(points[0][0],points[0][1]))"
   ]
  },
  {
   "cell_type": "code",
   "execution_count": null,
   "metadata": {},
   "outputs": [],
   "source": [
    "px,py = points[0]\n",
    "ax,ay = move_py_fuckArm(px,py)\n",
    "print(ax,ay)"
   ]
  },
  {
   "cell_type": "code",
   "execution_count": 12,
   "metadata": {},
   "outputs": [
    {
     "name": "stdout",
     "output_type": "stream",
     "text": [
      "success\n"
     ]
    }
   ],
   "source": [
    "import serial_test\n",
    "import time\n",
    "\n",
    "def moveSlow2(x,y):\n",
    "    ax,ay = move_py_fuckArm(x,y)\n",
    "    serial_test.move_slow(ax,ay)\n",
    "    time.sleep(2)\n",
    "\n",
    "px,py = points[0]\n",
    "ax,ay = move_py_fuckArm(px,py)\n",
    "\n",
    "if not serial_test.open(\"COM3\"):\n",
    "    print('err')\n",
    "    exit(1)\n",
    "print('success')\n",
    "serial_test.set_servo_position(0,int(ax))\n",
    "serial_test.set_servo_position(1,int(ay))\n",
    "# serial_test.setClickTime(200)\n",
    "time.sleep(1)\n",
    "px,py = points[1]\n",
    "\n",
    "for px,py in points[1:]:\n",
    "    moveSlow2(px,py)\n",
    "for _ in range(2):\n",
    "    for px,py in points:\n",
    "        moveSlow2(px,py)\n",
    "    # serial_test.click()\n",
    "    # time.sleep(1.5)\n",
    "    # ax,ay = move_py_fuckArm(px,py)\n",
    "    # serial_test.move_slow(ax,ay)\n",
    "px,py = points[0]\n",
    "moveSlow2(px,py)\n",
    "serial_test.close()"
   ]
  }
 ],
 "metadata": {
  "kernelspec": {
   "display_name": "Python 3",
   "language": "python",
   "name": "python3"
  },
  "language_info": {
   "codemirror_mode": {
    "name": "ipython",
    "version": 3
   },
   "file_extension": ".py",
   "mimetype": "text/x-python",
   "name": "python",
   "nbconvert_exporter": "python",
   "pygments_lexer": "ipython3",
   "version": "3.7.8"
  }
 },
 "nbformat": 4,
 "nbformat_minor": 2
}
